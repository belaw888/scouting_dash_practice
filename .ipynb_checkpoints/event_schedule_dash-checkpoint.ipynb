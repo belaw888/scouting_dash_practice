{
 "cells": [
  {
   "cell_type": "code",
   "execution_count": 4,
   "id": "5f8e0de9",
   "metadata": {},
   "outputs": [],
   "source": [
    "import tbapy\n",
    "from IPython.display import display\n",
    "from tabulate import tabulate\n",
    "import pandas as pd\n",
    "import json\n",
    "from operator import itemgetter\n",
    "import TBA_data_functions as t"
   ]
  },
  {
   "cell_type": "code",
   "execution_count": 5,
   "id": "b1099d3b",
   "metadata": {},
   "outputs": [],
   "source": [
    "tba = tbapy.TBA('dZURQZdsSGuLmOC8lHnCnpPvjUqVpQ2qXxdObgcLS75cT7jNAfUxxvkOusgsd30e')"
   ]
  },
  {
   "cell_type": "code",
   "execution_count": 29,
   "id": "71a37052",
   "metadata": {},
   "outputs": [
    {
     "name": "stdout",
     "output_type": "stream",
     "text": [
      "     key      start_date                        name                       \n",
      "2  2022va305  2022-03-05       CHS District Greater Richmond Event #1 Day 1\n",
      "3  2022va320  2022-03-20       CHS District Greater Richmond Event #2 Day 2\n",
      "0  2022chcmp  2022-04-06  FIRST Chesapeake District Championship sponsor...\n",
      "1    2022gal  2022-04-20                                   Galileo Division\n",
      "4  2022vabrb  2022-10-08                                   Blue Ridge Brawl\n",
      "5   2022varr  2022-11-05                                Rumble in the Roads\n"
     ]
    },
    {
     "data": {
      "text/html": [
       "<div>\n",
       "<style scoped>\n",
       "    .dataframe tbody tr th:only-of-type {\n",
       "        vertical-align: middle;\n",
       "    }\n",
       "\n",
       "    .dataframe tbody tr th {\n",
       "        vertical-align: top;\n",
       "    }\n",
       "\n",
       "    .dataframe thead th {\n",
       "        text-align: right;\n",
       "    }\n",
       "</style>\n",
       "<table border=\"1\" class=\"dataframe\">\n",
       "  <thead>\n",
       "    <tr style=\"text-align: center;\">\n",
       "      <th></th>\n",
       "      <th>actual_time</th>\n",
       "      <th>alliances</th>\n",
       "      <th>comp_level</th>\n",
       "      <th>event_key</th>\n",
       "      <th>key</th>\n",
       "      <th>match_number</th>\n",
       "      <th>post_result_time</th>\n",
       "      <th>predicted_time</th>\n",
       "      <th>score_breakdown</th>\n",
       "      <th>set_number</th>\n",
       "      <th>time</th>\n",
       "      <th>videos</th>\n",
       "      <th>winning_alliance</th>\n",
       "    </tr>\n",
       "  </thead>\n",
       "  <tbody>\n",
       "    <tr>\n",
       "      <th>12</th>\n",
       "      <td>1649351039</td>\n",
       "      <td>{'blue': {'dq_team_keys': [], 'score': 63, 'su...</td>\n",
       "      <td>qm</td>\n",
       "      <td>2022chcmp</td>\n",
       "      <td>2022chcmp_qm1</td>\n",
       "      <td>1</td>\n",
       "      <td>1649351243</td>\n",
       "      <td>1649351221</td>\n",
       "      <td>{'blue': {'adjustPoints': 0, 'autoCargoLowerBl...</td>\n",
       "      <td>1</td>\n",
       "      <td>1649350800</td>\n",
       "      <td>[{'key': 'qz7FiTHKkgw', 'type': 'youtube'}]</td>\n",
       "      <td>red</td>\n",
       "    </tr>\n",
       "  </tbody>\n",
       "</table>\n",
       "</div>"
      ],
      "text/plain": [
       "    actual_time                     alliances                      comp_level event_key       key        match_number  post_result_time  predicted_time                  score_breakdown                    set_number     time                       videos                    winning_alliance\n",
       "12  1649351039   {'blue': {'dq_team_keys': [], 'score': 63, 'su...     qm      2022chcmp  2022chcmp_qm1        1          1649351243       1649351221    {'blue': {'adjustPoints': 0, 'autoCargoLowerBl...       1      1649350800  [{'key': 'qz7FiTHKkgw', 'type': 'youtube'}]        red      "
      ]
     },
     "metadata": {},
     "output_type": "display_data"
    },
    {
     "data": {
      "text/plain": [
       "12    {'blue': {'dq_team_keys': [], 'score': 63, 'su...\n",
       "Name: alliances, dtype: object"
      ]
     },
     "metadata": {},
     "output_type": "display_data"
    },
    {
     "name": "stdout",
     "output_type": "stream",
     "text": [
      "<class 'dict'>\n"
     ]
    },
    {
     "ename": "KeyError",
     "evalue": "'blue'",
     "output_type": "error",
     "traceback": [
      "\u001b[0;31m---------------------------------------------------------------------------\u001b[0m",
      "\u001b[0;31mKeyError\u001b[0m                                  Traceback (most recent call last)",
      "Cell \u001b[0;32mIn [29], line 35\u001b[0m\n\u001b[1;32m     31\u001b[0m newdf \u001b[38;5;241m=\u001b[39m newdf\u001b[38;5;241m.\u001b[39mto_dict()\n\u001b[1;32m     32\u001b[0m \u001b[38;5;28mprint\u001b[39m(\u001b[38;5;28mtype\u001b[39m(newdf))\n\u001b[0;32m---> 35\u001b[0m blue \u001b[38;5;241m=\u001b[39m newdf[\u001b[38;5;124m'\u001b[39m\u001b[38;5;124mblue\u001b[39m\u001b[38;5;124m'\u001b[39m][\u001b[38;5;124m'\u001b[39m\u001b[38;5;124mteam_keys\u001b[39m\u001b[38;5;124m'\u001b[39m]\n\u001b[1;32m     36\u001b[0m \u001b[38;5;28mprint\u001b[39m(blue)\n",
      "\u001b[0;31mKeyError\u001b[0m: 'blue'"
     ]
    }
   ],
   "source": [
    "event_key = '2022chcmp'\n",
    "json_data = tba.event_matches(event_key)\n",
    "# schedule = tba.team_events(401, 2022)\n",
    "team401 = t.team(401, 2022) \n",
    "schedule = team401.simple_season_schedule()\n",
    "print(schedule)\n",
    "s1 = json.dumps(json_data)\n",
    "data = json.loads(s1)\n",
    "# print(data)\n",
    "df = pd.DataFrame(data)\n",
    "df = df.fillna(\"\")\n",
    "\n",
    "# output = df[['key', 'start_date', 'name']]\n",
    "output = df.sort_values(by=['predicted_time'])  \n",
    "# print(df)\n",
    "pd.set_option('display.max_rows', None)\n",
    "pd.set_option('display.max_columns', None)\n",
    "pd.set_option('display.width', 1000)\n",
    "pd.set_option('display.colheader_justify', 'center')\n",
    "pd.set_option('display.precision', 2)\n",
    "\n",
    "output = output[output['key'] == f'{event_key}_qm1']\n",
    "display(output)\n",
    "newdf = output['alliances']\n",
    "\n",
    "display(output['alliances'])\n",
    "\n",
    "# json_data = newdf\n",
    "# s1 = json.dumps(json_data)\n",
    "# data = json.loads(s1)\n",
    "newdf = newdf.to_dict()\n",
    "print(type(newdf))\n",
    "\n",
    "\n",
    "blue = newdf['blue']['team_keys']\n",
    "print(blue)\n",
    "#is update?"
   ]
  },
  {
   "cell_type": "code",
   "execution_count": 7,
   "id": "c73dfccb",
   "metadata": {},
   "outputs": [],
   "source": [
    "# print(tabulate(df, tablefmt=\"pretty\"))"
   ]
  }
 ],
 "metadata": {
  "jupytext": {
   "cell_metadata_filter": "-all",
   "formats": "ipynb,py",
   "main_language": "python",
   "notebook_metadata_filter": "-all"
  },
  "kernelspec": {
   "display_name": "Python 3 (ipykernel)",
   "language": "python",
   "name": "python3"
  },
  "language_info": {
   "codemirror_mode": {
    "name": "ipython",
    "version": 3
   },
   "file_extension": ".py",
   "mimetype": "text/x-python",
   "name": "python",
   "nbconvert_exporter": "python",
   "pygments_lexer": "ipython3",
   "version": "3.10.6"
  }
 },
 "nbformat": 4,
 "nbformat_minor": 5
}
